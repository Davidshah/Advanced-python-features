{
 "cells": [
  {
   "cell_type": "markdown",
   "metadata": {
    "collapsed": true
   },
   "source": [
    "# Decorators\n",
    "---"
   ]
  },
  {
   "cell_type": "markdown",
   "metadata": {},
   "source": [
    "This will be the first notebook in a series on advanced Python features. Future notebooks will include:\n",
    "* Generators\n",
    "* TypeHints\n",
    "* Collections\n",
    "* Itertools\n",
    "* Functools\n",
    "* Packing/Unpacking\n",
    "* Context Managers"
   ]
  },
  {
   "cell_type": "markdown",
   "metadata": {},
   "source": [
    "### Explaining Decorators\n",
    "\n",
    "If we look up the term \"decorator\" in [Python's glossary](https://docs.python.org/3/glossary.html#term-decorator) we get:\n",
    "\n",
    "> A function returning another function, usually applied as a function transformation using the `@wrapper` syntax.\n",
    "\n",
    "A function that returns another function. Simple enough. But why would we even want to do that? Let's look up the [reason Decorators were added to Python](https://www.python.org/dev/peps/pep-0318/#id65) in the first place:\n",
    "\n",
    "> The current method for transforming functions and methods (for instance, declaring them as a class or static method) is awkward and can lead to code that is difficult to understand. Ideally, these transformations should be made at the same point in the code where the declaration itself is made. This PEP introduces new syntax for transformations of a function or method declaration.\n",
    "\n",
    "In other words, decorators are useful when we want to change or perform a task on another function/method. We take in an old function and we return a new \"decorated\" function. We could do this without decorators but our code wouldn't be as pretty.\n",
    "\n",
    "Some popular examples of decorators can be found [here](https://wiki.python.org/moin/PythonDecoratorLibrary) and [here](https://www.python-course.eu/python3_decorators.php). Let's explore six use cases:\n",
    "\n",
    "* Decorator that adds variables.\n",
    "* Decorator that adds preconditions.\n",
    "* Decorator that stores output.\n",
    "* Decorator that helps with debugging.\n",
    "* Decorator that tracks runtime.\n",
    "* Decorator that applies any number of functions to a function."
   ]
  },
  {
   "cell_type": "markdown",
   "metadata": {
    "collapsed": true
   },
   "source": [
    "### Code: Decorator that adds variables\n",
    "\n",
    "For an intuitive example of a decorator, imagine that we want to model the price of a house. We can create a function `get_house_price` that takes in sqft as a variable and returns the price of the house (let's assume 200/sqft)."
   ]
  },
  {
   "cell_type": "code",
   "execution_count": 1,
   "metadata": {
    "collapsed": false
   },
   "outputs": [
    {
     "data": {
      "text/plain": [
       "200000"
      ]
     },
     "execution_count": 1,
     "metadata": {},
     "output_type": "execute_result"
    }
   ],
   "source": [
    "def get_house_price(sqft):\n",
    "        return sqft * 200\n",
    "        \n",
    "get_house_price(1000)"
   ]
  },
  {
   "cell_type": "markdown",
   "metadata": {},
   "source": [
    "Now, say we want to add decorations to our house and charge for each one. For example, the same house with a refrigerator would cost an extra 1000, with a couch an extra 500, and with a desk an extra 300. We can create a decorator that adds these prices to our base model. It literally adds decorations to our model."
   ]
  },
  {
   "cell_type": "code",
   "execution_count": 2,
   "metadata": {
    "collapsed": false
   },
   "outputs": [
    {
     "data": {
      "text/plain": [
       "201500"
      ]
     },
     "execution_count": 2,
     "metadata": {},
     "output_type": "execute_result"
    }
   ],
   "source": [
    "def decorations(*addons):\n",
    "    prices = {'refrigerator': 1000, 'couch': 500, 'desk': 300}\n",
    "    def wrapper(old_function):\n",
    "        def add_decorations(arg):\n",
    "            return old_function(arg) + sum([prices[i] for i in addons])\n",
    "        return add_decorations\n",
    "    return wrapper\n",
    "\n",
    "@decorations('refrigerator', 'couch')\n",
    "def get_house_price(sqft):\n",
    "        return sqft * 200\n",
    "\n",
    "get_house_price(1000)"
   ]
  },
  {
   "cell_type": "markdown",
   "metadata": {},
   "source": [
    "### Code: Decorator that adds preconditions\n",
    "\n",
    "We can use a decorator to add a precondition to a function that needs to be met before running. For example, say we want to check that the right type is being passed as an argument. If it is we run the function. If not we print \"Bad Type Inputed\"."
   ]
  },
  {
   "cell_type": "code",
   "execution_count": 3,
   "metadata": {
    "collapsed": false
   },
   "outputs": [
    {
     "name": "stdout",
     "output_type": "stream",
     "text": [
      "2\n",
      "Bad Type Inputed\n",
      "a .\n",
      "Bad Type Inputed\n"
     ]
    }
   ],
   "source": [
    "def argument_test(type):\n",
    "    def wrapper(old_function):\n",
    "        def check_type(arg):\n",
    "            if isinstance(arg, type):\n",
    "                return old_function(arg)\n",
    "            else:\n",
    "                print(\"Bad Type Inputed\")\n",
    "        return check_type\n",
    "    return wrapper\n",
    "\n",
    "@argument_test(int)\n",
    "def test1(n):\n",
    "    return n + n\n",
    "\n",
    "@argument_test(str)\n",
    "def test2(s):\n",
    "    return s + ' .'\n",
    "\n",
    "print(test1(1))\n",
    "test1(\"a\")\n",
    "print(test2(\"a\"))\n",
    "test2(1)"
   ]
  },
  {
   "cell_type": "markdown",
   "metadata": {},
   "source": [
    "### Code: Decorator that stores output\n",
    "\n",
    "We can use a decorator to store an output every time a function is called. If the output has already been stored, the function won't need to be called again and it will save us some time. For example, we can store the numbers in the Fibonacci sequence."
   ]
  },
  {
   "cell_type": "code",
   "execution_count": 4,
   "metadata": {
    "collapsed": false
   },
   "outputs": [
    {
     "name": "stdout",
     "output_type": "stream",
     "text": [
      "4.87 µs ± 91.6 ns per loop (mean ± std. dev. of 7 runs, 100000 loops each)\n",
      "12.3 µs ± 326 ns per loop (mean ± std. dev. of 7 runs, 100000 loops each)\n"
     ]
    }
   ],
   "source": [
    "def cache_fib(old_function):\n",
    "    stored_values = {}\n",
    "    def wrapper(*args):\n",
    "        if args not in stored_values:\n",
    "            stored_values[args] = old_function(*args)\n",
    "        return stored_values[args]\n",
    "    return wrapper\n",
    "\n",
    "@cache_fib\n",
    "def fibonacci(n):\n",
    "    if n < 2:\n",
    "        return n\n",
    "    return fibonacci(n-1) + fibonacci(n-2)\n",
    "\n",
    "def fibonacci_no_cache(n):\n",
    "    if n < 2:\n",
    "        return n\n",
    "    return fibonacci(n-1) + fibonacci(n-2)\n",
    "\n",
    "%timeit [fibonacci(n) for n in range(1, 20)]\n",
    "%timeit [fibonacci_no_cache(n) for n in range(1, 20)]"
   ]
  },
  {
   "cell_type": "markdown",
   "metadata": {},
   "source": [
    "### Code: Decorator that helps with debugging\n",
    "\n",
    "We can use a decorator to add a print statement to our code that helps with debugging. For example, say we want to see what is going on with our inputs and outputs for each function. Our decorator will allow us to do this with a single line of code."
   ]
  },
  {
   "cell_type": "code",
   "execution_count": 5,
   "metadata": {
    "collapsed": false
   },
   "outputs": [
    {
     "name": "stdout",
     "output_type": "stream",
     "text": [
      "test1(1, 2) -> 3\n",
      "test2(1, 2, 3) -> 6\n",
      "test3(1,) -> 2\n"
     ]
    },
    {
     "data": {
      "text/plain": [
       "2"
      ]
     },
     "execution_count": 5,
     "metadata": {},
     "output_type": "execute_result"
    }
   ],
   "source": [
    "def debug(old_function):\n",
    "    def wrapper(*args, **kwargs):\n",
    "        result = old_function(*args, *kwargs)\n",
    "        print(\"{}{} -> {}\".format(old_function.__name__, args, result))\n",
    "        return result\n",
    "    return wrapper\n",
    "\n",
    "@debug\n",
    "def test1(x, y):\n",
    "    return x + y\n",
    "\n",
    "@debug\n",
    "def test2(x, y, z):\n",
    "    return x + y + z\n",
    "\n",
    "@debug\n",
    "def test3(x):\n",
    "    return x + 1\n",
    "\n",
    "test1(1, 2)\n",
    "test2(1, 2, 3)\n",
    "test3(1)"
   ]
  },
  {
   "cell_type": "markdown",
   "metadata": {},
   "source": [
    "### Code: Decorator that tracks runtime\n",
    "\n",
    "We can use a decorator to track the run time of our functions."
   ]
  },
  {
   "cell_type": "code",
   "execution_count": 6,
   "metadata": {
    "collapsed": false
   },
   "outputs": [
    {
     "name": "stdout",
     "output_type": "stream",
     "text": [
      "test ran in: 0.9135763645172119 seconds\n"
     ]
    }
   ],
   "source": [
    "import time\n",
    "def timer(old_function):\n",
    "    def wrapper(*args, **kwargs):\n",
    "        t0 = time.time()\n",
    "        old_function(*args, **kwargs)\n",
    "        t1 = time.time()\n",
    "        print('{} ran in: {} seconds'.format(old_function.__name__, t1 - t0))\n",
    "    return wrapper\n",
    "\n",
    "@timer\n",
    "def test(x, y):\n",
    "    for i in range(1, x):\n",
    "        for ii in range(1, y):\n",
    "            [x for x in range(i * ii)]\n",
    "\n",
    "test(100, 100)"
   ]
  },
  {
   "cell_type": "markdown",
   "metadata": {},
   "source": [
    "### Code: Decorator that applies any number of functions to a function\n",
    "\n",
    "We can use a decorator run a function on a function on a function. Inception style."
   ]
  },
  {
   "cell_type": "code",
   "execution_count": 7,
   "metadata": {
    "collapsed": false
   },
   "outputs": [
    {
     "data": {
      "text/plain": [
       "54"
      ]
     },
     "execution_count": 7,
     "metadata": {},
     "output_type": "execute_result"
    }
   ],
   "source": [
    "def inception(*functions):\n",
    "    def wrapper(old_function):\n",
    "        def apply_functions(*args, **kwargs):\n",
    "            start = functions[0](old_function(*args, **kwargs))\n",
    "            for func in functions[1:]:\n",
    "                start = func(start)\n",
    "            return start\n",
    "        return apply_functions\n",
    "    return wrapper\n",
    "    \n",
    "def function_1(x):\n",
    "    return x**2      # 4\n",
    "    \n",
    "def function_2(x):\n",
    "    return x + x     # 8\n",
    "    \n",
    "def function_3(x):\n",
    "    return x**2      # 64\n",
    "    \n",
    "def function_4(x):\n",
    "    return x-10      # 54\n",
    "\n",
    "@inception(function_1, function_2, function_3, function_4)\n",
    "def function_0(x, y):\n",
    "    return x + y     # 2\n",
    "    \n",
    "function_0(1, 1)"
   ]
  }
 ],
 "metadata": {
  "anaconda-cloud": {},
  "kernelspec": {
   "display_name": "Python [conda env:aind]",
   "language": "python",
   "name": "conda-env-aind-py"
  },
  "language_info": {
   "codemirror_mode": {
    "name": "ipython",
    "version": 3
   },
   "file_extension": ".py",
   "mimetype": "text/x-python",
   "name": "python",
   "nbconvert_exporter": "python",
   "pygments_lexer": "ipython3",
   "version": "3.6.2"
  }
 },
 "nbformat": 4,
 "nbformat_minor": 2
}
